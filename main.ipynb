{
 "cells": [
  {
   "cell_type": "code",
   "execution_count": 15,
   "id": "529d2acf",
   "metadata": {
    "ExecuteTime": {
     "end_time": "2021-05-13T18:31:13.348401Z",
     "start_time": "2021-05-13T18:31:13.326656Z"
    }
   },
   "outputs": [
    {
     "name": "stdout",
     "output_type": "stream",
     "text": [
      "torch v: 1.8.0\n",
      "torchvision v: 0.9.0\n",
      "sklearn v: 0.24.1\n",
      "tensorflow v: 2.3.0\n",
      "matplotlib v: 3.3.4\n",
      "seaborn v: 0.11.1\n",
      "numpy v: 1.19.2\n",
      "pandas v: 1.2.3\n",
      "json v: 2.0.9\n"
     ]
    }
   ],
   "source": [
    "import os\n",
    "import torch\n",
    "import torch.nn as nn\n",
    "from torch.autograd import Variable\n",
    "import torchvision\n",
    "import torchvision.datasets as dset\n",
    "import torchvision.transforms as transforms\n",
    "import torch.nn.functional as F\n",
    "import torch.optim as optim\n",
    "import sklearn \n",
    "import tensorflow\n",
    "import matplotlib \n",
    "import dni\n",
    "import seaborn\n",
    "import numpy\n",
    "import pandas\n",
    "import os\n",
    "import json\n",
    "\n",
    "print('torch v:', torch.__version__)\n",
    "print('torchvision v:', torchvision.__version__)\n",
    "print('sklearn v:', sklearn.__version__)\n",
    "print('tensorflow v:', tensorflow.__version__)\n",
    "print('matplotlib v:', matplotlib.__version__)\n",
    "print('seaborn v:', seaborn.__version__)\n",
    "print('numpy v:', numpy.__version__)\n",
    "print('pandas v:', pandas.__version__)\n",
    "print('json v:', json.__version__)\n"
   ]
  },
  {
   "cell_type": "code",
   "execution_count": 20,
   "id": "attached-strap",
   "metadata": {
    "ExecuteTime": {
     "end_time": "2021-05-05T02:09:17.501500Z",
     "start_time": "2021-05-05T02:09:17.462502Z"
    }
   },
   "outputs": [],
   "source": [
    "n_epochs = 10000\n",
    "log_interval = 20\n",
    "\n",
    "#set random seed\n",
    "random_seed = 43\n",
    "torch.manual_seed(random_seed)\n",
    "\n",
    "#set torch device\n",
    "dev = torch.device(\"cuda\") if torch.cuda.is_available() else torch.device(\n",
    "    \"cpu\")"
   ]
  },
  {
   "cell_type": "code",
   "execution_count": 21,
   "id": "demanding-cooling",
   "metadata": {
    "ExecuteTime": {
     "end_time": "2021-05-05T02:09:18.009947Z",
     "start_time": "2021-05-05T02:09:17.951726Z"
    }
   },
   "outputs": [],
   "source": [
    "from dataloader import get_dataloaders\n",
    "\n",
    "batch_size_train = 256 #specified in the paper\n",
    "'''\n",
    "downsample mnist so we can run longer.\n",
    "set batch sizes = total dataset sizes so we don't need to modify test loop for f1/prec/recall \n",
    "\n",
    "'''\n",
    "train_loader, test_loader = get_dataloaders(5000, 1000, batch_size_train)"
   ]
  },
  {
   "cell_type": "markdown",
   "id": "collaborative-mumbai",
   "metadata": {},
   "source": [
    "### Running SG vs BP"
   ]
  },
  {
   "cell_type": "code",
   "execution_count": 4,
   "id": "remarkable-collar",
   "metadata": {
    "ExecuteTime": {
     "end_time": "2021-05-01T18:21:47.565281Z",
     "start_time": "2021-05-01T18:21:47.365787Z"
    },
    "scrolled": true
   },
   "outputs": [
    {
     "ename": "ImportError",
     "evalue": "cannot import name 'Net' from 'models' (C:\\Users\\jdine\\Documents\\UVA\\UVA_Spring2021\\Cloud Computing\\synthetic_grads\\models.py)",
     "output_type": "error",
     "traceback": [
      "\u001b[1;31m---------------------------------------------------------------------------\u001b[0m",
      "\u001b[1;31mImportError\u001b[0m                               Traceback (most recent call last)",
      "\u001b[1;32m<ipython-input-4-a896bb1a94bf>\u001b[0m in \u001b[0;36m<module>\u001b[1;34m\u001b[0m\n\u001b[1;32m----> 1\u001b[1;33m \u001b[1;32mfrom\u001b[0m \u001b[0mmodels\u001b[0m \u001b[1;32mimport\u001b[0m \u001b[1;33m(\u001b[0m\u001b[0mFour_Layer\u001b[0m\u001b[1;33m,\u001b[0m \u001b[0mEight_Layer\u001b[0m\u001b[1;33m,\u001b[0m \u001b[0mVGG16_custom\u001b[0m\u001b[1;33m,\u001b[0m \u001b[0mFour_Layer_SG\u001b[0m\u001b[1;33m,\u001b[0m \u001b[0mEight_Layer_SG\u001b[0m\u001b[1;33m,\u001b[0m \u001b[0mVGG16_SG\u001b[0m\u001b[1;33m,\u001b[0m \u001b[0mNet\u001b[0m\u001b[1;33m)\u001b[0m\u001b[1;33m\u001b[0m\u001b[1;33m\u001b[0m\u001b[0m\n\u001b[0m\u001b[0;32m      2\u001b[0m \u001b[1;32mimport\u001b[0m \u001b[0mnumpy\u001b[0m \u001b[1;32mas\u001b[0m \u001b[0mnp\u001b[0m\u001b[1;33m\u001b[0m\u001b[1;33m\u001b[0m\u001b[0m\n\u001b[0;32m      3\u001b[0m \u001b[1;32mfrom\u001b[0m \u001b[0mtrain\u001b[0m \u001b[1;32mimport\u001b[0m \u001b[0mtrain\u001b[0m\u001b[1;33m,\u001b[0m\u001b[0mtrain_sg\u001b[0m\u001b[1;33m,\u001b[0m\u001b[0mtest\u001b[0m\u001b[1;33m\u001b[0m\u001b[1;33m\u001b[0m\u001b[0m\n\u001b[0;32m      4\u001b[0m \u001b[1;32mimport\u001b[0m \u001b[0mwarnings\u001b[0m\u001b[1;33m\u001b[0m\u001b[1;33m\u001b[0m\u001b[0m\n\u001b[0;32m      5\u001b[0m \u001b[1;32mfrom\u001b[0m \u001b[0mtqdm\u001b[0m \u001b[1;32mimport\u001b[0m \u001b[0mtqdm\u001b[0m\u001b[1;33m\u001b[0m\u001b[1;33m\u001b[0m\u001b[0m\n",
      "\u001b[1;31mImportError\u001b[0m: cannot import name 'Net' from 'models' (C:\\Users\\jdine\\Documents\\UVA\\UVA_Spring2021\\Cloud Computing\\synthetic_grads\\models.py)"
     ]
    }
   ],
   "source": [
    "from models import (Four_Layer, Eight_Layer, VGG16_custom, Four_Layer_SG, Eight_Layer_SG, VGG16_SG)\n",
    "import numpy as np\n",
    "from train import train,train_sg,test \n",
    "import warnings\n",
    "from tqdm import tqdm\n",
    "warnings.filterwarnings(\"ignore\")\n",
    "\n",
    "# train_counter = []\n",
    "# test_counter = [i * len(train_loader.dataset) for i in range(n_epochs + 1)]\n",
    "history = {}\n",
    "\n",
    "model_dict = {\n",
    "    #4-layer convnets\n",
    "#     'Four_Layer_SG': Four_Layer_SG,\n",
    "#     'Four_layer': Four_Layer,\n",
    "#     #8-layer convnets\n",
    "    'Eight_Layer_SG': Net,\n",
    "#     'Eight_Layer': Eight_Layer,\n",
    "    #VGG Models\n",
    "    'VGG16_SG': VGG16_SG,\n",
    "#     'VGG16': VGG16_custom,   \n",
    "}\n",
    "\n",
    "from time import time\n",
    "\n",
    "with open('data.json', 'r') as fp:\n",
    "    data = json.load(fp)\n",
    "    \n",
    "for key in model_dict.keys():\n",
    "    model = model_dict[key]()\n",
    "    stats = []\n",
    "    test(model,test_loader)\n",
    "    print(key, '\\n')\n",
    "    for epoch in tqdm(range(1, n_epochs + 1), leave=False):\n",
    "        start_time = time()\n",
    "        \n",
    "        if 'SG' not in key:\n",
    "            train(model, epoch, train_loader, log_interval, verbose=False)\n",
    "        else:\n",
    "            train_sg(model, epoch, train_loader, log_interval, verbose=False)\n",
    "            \n",
    "        end_time = time()\n",
    "        time_taken = end_time - start_time\n",
    "        \n",
    "        metrics = test(model, test_loader)\n",
    "        metrics.append(time_taken)\n",
    "            \n",
    "        stats.append(metrics)\n",
    "        \n",
    "    data[key] = stats\n",
    "    #clear gpu memory\n",
    "    torch.cuda.empty_cache()\n",
    "\n",
    "import json\n",
    "with open('data.json', 'w') as fp:\n",
    "    json.dump(history, fp)\n",
    "\n"
   ]
  },
  {
   "cell_type": "code",
   "execution_count": 22,
   "id": "comic-student",
   "metadata": {
    "ExecuteTime": {
     "end_time": "2021-05-05T02:09:22.766330Z",
     "start_time": "2021-05-05T02:09:22.644883Z"
    }
   },
   "outputs": [],
   "source": [
    "'''\n",
    "history holds:\n",
    "model key : (acc, precision, recall, f1, support), training time for epoch\n",
    "computed using weighted average\n",
    "\n",
    "'''\n",
    "with open('data.json', 'r') as fp:\n",
    "    data = json.load(fp)\n",
    "    \n"
   ]
  },
  {
   "cell_type": "code",
   "execution_count": 50,
   "id": "deluxe-smoke",
   "metadata": {
    "ExecuteTime": {
     "end_time": "2021-05-05T15:24:23.810446Z",
     "start_time": "2021-05-05T15:24:23.779316Z"
    }
   },
   "outputs": [
    {
     "name": "stdout",
     "output_type": "stream",
     "text": [
      "PERFORMANCE METRICS \n",
      "Four_Layer_SG\n",
      "acc 95.5\n",
      "prec 0.9559224137931034\n",
      "recall 0.955\n",
      "f1 0.9549426025113246\n",
      "\n",
      "\n",
      "Four_layer\n",
      "acc 97.5\n",
      "prec 0.9755877435613745\n",
      "recall 0.975\n",
      "f1 0.9549426025113246\n",
      "\n",
      "\n",
      "Eight_Layer_SG\n",
      "acc 92.0\n",
      "prec 0.925986364682017\n",
      "recall 0.92\n",
      "f1 0.9549426025113246\n",
      "\n",
      "\n",
      "Eight_Layer\n",
      "acc 98.0\n",
      "prec 0.9810427807486631\n",
      "recall 0.98\n",
      "f1 0.9549426025113246\n",
      "\n",
      "\n",
      "VGG16_SG\n",
      "acc 93.0\n",
      "prec 0.9394805194805196\n",
      "recall 0.93\n",
      "f1 0.9549426025113246\n",
      "\n",
      "\n",
      "VGG16\n",
      "acc 99.5\n",
      "prec 0.9952941176470589\n",
      "recall 0.995\n",
      "f1 0.9549426025113246\n",
      "\n",
      "\n"
     ]
    }
   ],
   "source": [
    "print('PERFORMANCE METRICS ')\n",
    "for key in data.keys():\n",
    "    print(key)\n",
    "    print('acc', max([i[0][0] for i in data[key]]))\n",
    "    print('prec', max([i[0][1] for i in data[key]]))\n",
    "    print('recall', max([i[0][2] for i in data[key]]))\n",
    "    print('f1', max([i[0][3] for i in data['Four_Layer_SG']]))\n",
    "    print('\\n')\n",
    "\n"
   ]
  },
  {
   "cell_type": "code",
   "execution_count": 130,
   "id": "starting-battle",
   "metadata": {
    "ExecuteTime": {
     "end_time": "2021-05-02T16:54:21.683358Z",
     "start_time": "2021-05-02T16:54:21.162022Z"
    },
    "scrolled": false
   },
   "outputs": [
    {
     "data": {
      "image/png": "[encoded data removed]",
      "text/plain": [
       "<Figure size 576x432 with 1 Axes>"
      ]
     },
     "metadata": {},
     "output_type": "display_data"
    },
    {
     "data": {
      "image/png": "[encoded data removed]",
      "text/plain": [
       "<Figure size 576x432 with 1 Axes>"
      ]
     },
     "metadata": {},
     "output_type": "display_data"
    },
    {
     "data": {
      "image/png": "[encoded data removed]",
      "text/plain": [
       "<Figure size 576x432 with 1 Axes>"
      ]
     },
     "metadata": {},
     "output_type": "display_data"
    }
   ],
   "source": [
    "plot = {}\n",
    "import seaborn as sns\n",
    "import pandas as pd\n",
    "import matplotlib.pyplot as plt\n",
    "\n",
    "sns.set(rc={'figure.figsize':(8,6)})\n",
    "for key in data.keys():\n",
    "    plot[key] = [i[0][1] for i in data[key]]\n",
    "# #     sns.set(rc={'figure.figsize':(11.7,8.27)})\n",
    "#     df = pd.DataFrame(plot).plot()\n",
    "#     plt.ylim(0.5)\n",
    "#     plt.xlabel('Iterations', fontsize = 16)\n",
    "#     plt.ylabel('Accuracy', fontsize = 16)\n",
    "        \n",
    "df = pd.DataFrame(plot)\n",
    "four = df.iloc[:, [0,1]]\n",
    "eight = df.iloc[:, [2,3]]\n",
    "vgg = df.iloc[:, [4,5]]\n",
    "\n",
    "for i in [four, eight, vgg]:\n",
    "    i.plot()\n",
    "    plt.ylim(0.5)\n",
    "    plt.xlabel('Iterations', fontsize = 16)\n",
    "    plt.ylabel('Accuracy', fontsize = 16)\n",
    "    plt.legend(fontsize='x-large', title_fontsize='40')"
   ]
  },
  {
   "cell_type": "code",
   "execution_count": 136,
   "id": "fatty-identity",
   "metadata": {
    "ExecuteTime": {
     "end_time": "2021-05-02T18:48:47.881423Z",
     "start_time": "2021-05-02T18:48:47.805981Z"
    }
   },
   "outputs": [
    {
     "data": {
      "text/html": [
       "<div>\n",
       "<style scoped>\n",
       "    .dataframe tbody tr th:only-of-type {\n",
       "        vertical-align: middle;\n",
       "    }\n",
       "\n",
       "    .dataframe tbody tr th {\n",
       "        vertical-align: top;\n",
       "    }\n",
       "\n",
       "    .dataframe thead th {\n",
       "        text-align: right;\n",
       "    }\n",
       "</style>\n",
       "<table border=\"1\" class=\"dataframe\">\n",
       "  <thead>\n",
       "    <tr style=\"text-align: right;\">\n",
       "      <th></th>\n",
       "      <th>Four_Layer_SG</th>\n",
       "      <th>Four_layer</th>\n",
       "      <th>Eight_Layer_SG</th>\n",
       "      <th>Eight_Layer</th>\n",
       "      <th>VGG16_SG</th>\n",
       "      <th>VGG16</th>\n",
       "    </tr>\n",
       "  </thead>\n",
       "  <tbody>\n",
       "    <tr>\n",
       "      <th>count</th>\n",
       "      <td>10000.000000</td>\n",
       "      <td>10000.000000</td>\n",
       "      <td>10000.000000</td>\n",
       "      <td>10000.000000</td>\n",
       "      <td>10000.000000</td>\n",
       "      <td>10000.000000</td>\n",
       "    </tr>\n",
       "    <tr>\n",
       "      <th>mean</th>\n",
       "      <td>0.856188</td>\n",
       "      <td>0.956892</td>\n",
       "      <td>0.849818</td>\n",
       "      <td>0.957371</td>\n",
       "      <td>0.889399</td>\n",
       "      <td>0.988246</td>\n",
       "    </tr>\n",
       "    <tr>\n",
       "      <th>std</th>\n",
       "      <td>0.015459</td>\n",
       "      <td>0.014776</td>\n",
       "      <td>0.040818</td>\n",
       "      <td>0.045770</td>\n",
       "      <td>0.019505</td>\n",
       "      <td>0.033471</td>\n",
       "    </tr>\n",
       "    <tr>\n",
       "      <th>min</th>\n",
       "      <td>0.550803</td>\n",
       "      <td>0.309685</td>\n",
       "      <td>0.018053</td>\n",
       "      <td>0.002500</td>\n",
       "      <td>0.213722</td>\n",
       "      <td>0.006400</td>\n",
       "    </tr>\n",
       "    <tr>\n",
       "      <th>25%</th>\n",
       "      <td>0.847643</td>\n",
       "      <td>0.958209</td>\n",
       "      <td>0.812534</td>\n",
       "      <td>0.961414</td>\n",
       "      <td>0.875513</td>\n",
       "      <td>0.990294</td>\n",
       "    </tr>\n",
       "    <tr>\n",
       "      <th>50%</th>\n",
       "      <td>0.854910</td>\n",
       "      <td>0.958209</td>\n",
       "      <td>0.858067</td>\n",
       "      <td>0.961414</td>\n",
       "      <td>0.893149</td>\n",
       "      <td>0.990294</td>\n",
       "    </tr>\n",
       "    <tr>\n",
       "      <th>75%</th>\n",
       "      <td>0.862178</td>\n",
       "      <td>0.958209</td>\n",
       "      <td>0.883117</td>\n",
       "      <td>0.961414</td>\n",
       "      <td>0.898736</td>\n",
       "      <td>0.990294</td>\n",
       "    </tr>\n",
       "    <tr>\n",
       "      <th>max</th>\n",
       "      <td>0.955922</td>\n",
       "      <td>0.975588</td>\n",
       "      <td>0.925986</td>\n",
       "      <td>0.981043</td>\n",
       "      <td>0.939481</td>\n",
       "      <td>0.995294</td>\n",
       "    </tr>\n",
       "  </tbody>\n",
       "</table>\n",
       "</div>"
      ],
      "text/plain": [
       "       Four_Layer_SG    Four_layer  Eight_Layer_SG   Eight_Layer  \\\n",
       "count   10000.000000  10000.000000    10000.000000  10000.000000   \n",
       "mean        0.856188      0.956892        0.849818      0.957371   \n",
       "std         0.015459      0.014776        0.040818      0.045770   \n",
       "min         0.550803      0.309685        0.018053      0.002500   \n",
       "25%         0.847643      0.958209        0.812534      0.961414   \n",
       "50%         0.854910      0.958209        0.858067      0.961414   \n",
       "75%         0.862178      0.958209        0.883117      0.961414   \n",
       "max         0.955922      0.975588        0.925986      0.981043   \n",
       "\n",
       "           VGG16_SG         VGG16  \n",
       "count  10000.000000  10000.000000  \n",
       "mean       0.889399      0.988246  \n",
       "std        0.019505      0.033471  \n",
       "min        0.213722      0.006400  \n",
       "25%        0.875513      0.990294  \n",
       "50%        0.893149      0.990294  \n",
       "75%        0.898736      0.990294  \n",
       "max        0.939481      0.995294  "
      ]
     },
     "execution_count": 136,
     "metadata": {},
     "output_type": "execute_result"
    }
   ],
   "source": [
    "for key in data.keys():\n",
    "    plot[key] = [i[0][1] for i in data[key]]\n",
    "    df = pd.DataFrame(plot)\n",
    "df.describe()"
   ]
  },
  {
   "cell_type": "code",
   "execution_count": null,
   "id": "7957c73b",
   "metadata": {
    "ExecuteTime": {
     "end_time": "2021-04-29T18:38:26.461266Z",
     "start_time": "2021-04-29T18:38:25.504735Z"
    }
   },
   "outputs": [],
   "source": [
    "import seaborn as sns\n",
    "import matplotlib.pyplot as plt"
   ]
  },
  {
   "cell_type": "code",
   "execution_count": null,
   "id": "eb493e87",
   "metadata": {
    "ExecuteTime": {
     "end_time": "2021-04-05T21:40:26.650708Z",
     "start_time": "2021-04-05T21:40:26.490033Z"
    }
   },
   "outputs": [],
   "source": [
    "sns.lineplot(x = range(EPOCHS), y = logs['four_layer'].history['val_accuracy'], label = '4layer')\n",
    "sns.lineplot(x = range(EPOCHS), y = logs['eight_layer'].history['val_accuracy'], label = '8layer')\n",
    "# sns.lineplot(x = range(EPOCHS), y = logs['vgg16'].history['val_accuracy'], label = 'vgg16')\n",
    "plt.xlabel('Epoch')\n",
    "plt.ylabel('Validation Accuracy')\n",
    "plt.title('Epoch vs Vali Accuracy - Backprop')\n",
    "plt.legend()\n",
    "plt.show()\n"
   ]
  },
  {
   "cell_type": "code",
   "execution_count": null,
   "id": "816d8f10",
   "metadata": {},
   "outputs": [],
   "source": []
  }
 ],
 "metadata": {
  "kernelspec": {
   "display_name": "Python 3",
   "language": "python",
   "name": "python3"
  },
  "language_info": {
   "codemirror_mode": {
    "name": "ipython",
    "version": 3
   },
   "file_extension": ".py",
   "mimetype": "text/x-python",
   "name": "python",
   "nbconvert_exporter": "python",
   "pygments_lexer": "ipython3",
   "version": "3.8.8"
  },
  "varInspector": {
   "cols": {
    "lenName": 16,
    "lenType": 16,
    "lenVar": 40
   },
   "kernels_config": {
    "python": {
     "delete_cmd_postfix": "",
     "delete_cmd_prefix": "del ",
     "library": "var_list.py",
     "varRefreshCmd": "print(var_dic_list())"
    },
    "r": {
     "delete_cmd_postfix": ") ",
     "delete_cmd_prefix": "rm(",
     "library": "var_list.r",
     "varRefreshCmd": "cat(var_dic_list()) "
    }
   },
   "types_to_exclude": [
    "module",
    "function",
    "builtin_function_or_method",
    "instance",
    "_Feature"
   ],
   "window_display": false
  }
 },
 "nbformat": 4,
 "nbformat_minor": 5
}
